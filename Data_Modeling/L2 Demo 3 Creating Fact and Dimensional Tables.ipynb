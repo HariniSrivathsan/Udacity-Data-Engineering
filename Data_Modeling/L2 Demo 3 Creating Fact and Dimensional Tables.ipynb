{
 "cells": [
  {
   "cell_type": "code",
   "execution_count": 1,
   "metadata": {},
   "outputs": [],
   "source": [
    "import psycopg2"
   ]
  },
  {
   "cell_type": "code",
   "execution_count": 2,
   "metadata": {},
   "outputs": [],
   "source": [
    "try:\n",
    "    conn = psycopg2.connect(\"host=127.0.0.1 dbname=udacity user=postgres password='DataEng007'\")\n",
    "    cur = conn.cursor()\n",
    "except psycopg2.Error as e:\n",
    "   print(\"Error: Could not make connection to the udacity DB\")\n",
    "   print(e)\n",
    "\n",
    "try:\n",
    "   cur = conn.cursor()\n",
    "except psycopg2.Error as e:\n",
    "   print(e)\n",
    "\n",
    "conn.set_session(autocommit=True)\n"
   ]
  },
  {
   "cell_type": "code",
   "execution_count": 3,
   "metadata": {},
   "outputs": [],
   "source": [
    "try: \n",
    "    cur.execute(\"CREATE TABLE IF NOT EXISTS customer_transactions (customer_id int, store_id int, spent numeric);\")\n",
    "except psycopg2.Error as e: \n",
    "    print(\"Error: Issue creating table\")\n",
    "    print (e)\n",
    "    \n",
    "#Insert into all tables \n",
    "try: \n",
    "    cur.execute(\"INSERT INTO customer_transactions (customer_id, store_id, spent) \\\n",
    "                 VALUES (%s, %s, %s)\", \\\n",
    "                 (1, 1, 20.50))\n",
    "except psycopg2.Error as e: \n",
    "    print(\"Error: Inserting Rows\")\n",
    "    print (e)\n",
    "try: \n",
    "    cur.execute(\"INSERT INTO customer_transactions (customer_id, store_id, spent) \\\n",
    "                 VALUES (%s, %s, %s)\", \\\n",
    "                 (2, 1, 35.21))\n",
    "except psycopg2.Error as e: \n",
    "    print(\"Error: Inserting Rows\")\n",
    "    print (e)"
   ]
  },
  {
   "cell_type": "code",
   "execution_count": 4,
   "metadata": {},
   "outputs": [],
   "source": [
    "try: \n",
    "    cur.execute(\"CREATE TABLE IF NOT EXISTS items_purchased (customer_id int, item_number int, item_name varchar);\")\n",
    "except psycopg2.Error as e: \n",
    "    print(\"Error: Issue creating table\")\n",
    "    print (e)\n",
    "    \n",
    "try: \n",
    "    cur.execute(\"INSERT INTO items_purchased (customer_id, item_number, item_name) \\\n",
    "                 VALUES (%s, %s, %s)\", \\\n",
    "                 (1, 1, \"Rubber Soul\"))\n",
    "except psycopg2.Error as e: \n",
    "    print(\"Error: Inserting Rows\")\n",
    "    print (e)\n",
    "    \n",
    "try: \n",
    "    cur.execute(\"INSERT INTO items_purchased (customer_id, item_number, item_name) \\\n",
    "                 VALUES (%s, %s, %s)\", \\\n",
    "                 (2, 3, \"Let It Be\"))\n",
    "except psycopg2.Error as e: \n",
    "    print(\"Error: Inserting Rows\")\n",
    "    print (e)\n",
    "    \n",
    "try: \n",
    "    cur.execute(\"CREATE TABLE IF NOT EXISTS store (store_id int, state varchar);\")\n",
    "except psycopg2.Error as e: \n",
    "    print(\"Error: Issue creating table\")\n",
    "    print (e)\n",
    "    \n",
    "try: \n",
    "    cur.execute(\"INSERT INTO store (store_id, state) \\\n",
    "                 VALUES (%s, %s)\", \\\n",
    "                 (1, \"CA\"))\n",
    "except psycopg2.Error as e: \n",
    "    print(\"Error: Inserting Rows\")\n",
    "    print (e)\n",
    "try: \n",
    "    cur.execute(\"INSERT INTO store (store_id, state) \\\n",
    "                 VALUES (%s, %s)\", \\\n",
    "                 (2, \"WA\"))\n",
    "except psycopg2.Error as e: \n",
    "    print(\"Error: Inserting Rows\")\n",
    "    print (e)\n",
    "    \n",
    "try: \n",
    "    cur.execute(\"CREATE TABLE IF NOT EXISTS customer (customer_id int, name varchar, rewards boolean);\")\n",
    "except psycopg2.Error as e: \n",
    "    print(\"Error: Issue creating table\")\n",
    "    print (e)\n",
    "    \n",
    "try: \n",
    "    cur.execute(\"INSERT INTO customer (customer_id, name, rewards) \\\n",
    "                 VALUES (%s, %s, %s)\", \\\n",
    "                 (1, \"Amanda\", True))\n",
    "except psycopg2.Error as e: \n",
    "    print(\"Error: Inserting Rows\")\n",
    "    print (e)\n",
    "\n",
    "try: \n",
    "    cur.execute(\"INSERT INTO customer (customer_id, name, rewards) \\\n",
    "                 VALUES (%s, %s, %s)\", \\\n",
    "                 (2, \"Toby\", False))\n",
    "except psycopg2.Error as e: \n",
    "    print(\"Error: Inserting Rows\")\n",
    "    print (e)"
   ]
  },
  {
   "cell_type": "code",
   "execution_count": 5,
   "metadata": {},
   "outputs": [
    {
     "name": "stdout",
     "output_type": "stream",
     "text": [
      "(2, 'Amanda', 1, 'CA', Decimal('35.21'))\n",
      "(2, 'Toby', 1, 'CA', Decimal('35.21'))\n"
     ]
    }
   ],
   "source": [
    "try: \n",
    "    cur.execute(\"select sub.customer_Id, sub.customer_name, sub.store_id, sub.state, sub.Amount_Spent from\\\n",
    "                  (Select t.customer_Id, c.name as customer_name, s.store_id, s.state, sum(t.spent) as Amount_Spent\\\n",
    "                    from customer_transactions t\\\n",
    "                  JOIN Customer c on (t.Customer_id = t.Customer_Id)\\\n",
    "                  Join Store s on (t.store_id = s.Store_Id)\\\n",
    "                  group by t.customer_Id,c.name, s.store_id, s.state) sub\\\n",
    "                where sub.Amount_Spent > 30\")\n",
    "\n",
    "except psycopg2.Error as e: \n",
    "    print(\"Error: Inserting Rows\")\n",
    "    print (e)\n",
    "row = cur.fetchone()\n",
    "while row:\n",
    "   print(row)\n",
    "   row = cur.fetchone()"
   ]
  },
  {
   "cell_type": "code",
   "execution_count": 13,
   "metadata": {},
   "outputs": [
    {
     "name": "stdout",
     "output_type": "stream",
     "text": [
      "(2, Decimal('35.21'))\n"
     ]
    }
   ],
   "source": [
    "\n",
    "try: \n",
    "    cur.execute(\"SELECT customer_id, SUM(spent) FROM customer_transactions \\\n",
    "                 WHERE customer_id = 2 GROUP BY customer_id;\")\n",
    "    \n",
    "    \n",
    "except psycopg2.Error as e: \n",
    "    print(\"Error: select *\")\n",
    "    print (e)\n",
    "\n",
    "row = cur.fetchone()\n",
    "while row:\n",
    "   print(row)\n",
    "   row = cur.fetchone()"
   ]
  },
  {
   "cell_type": "code",
   "execution_count": 14,
   "metadata": {},
   "outputs": [],
   "source": [
    "try: \n",
    "    cur.execute(\"DROP table customer_transactions\")\n",
    "except psycopg2.Error as e: \n",
    "    print(\"Error: Dropping table\")\n",
    "    print (e)\n",
    "try: \n",
    "    cur.execute(\"DROP table items_purchased\")\n",
    "except psycopg2.Error as e: \n",
    "    print(\"Error: Dropping table\")\n",
    "    print (e)\n",
    "try: \n",
    "    cur.execute(\"DROP table customer\")\n",
    "except psycopg2.Error as e: \n",
    "    print(\"Error: Dropping table\")\n",
    "    print (e)\n",
    "try: \n",
    "    cur.execute(\"DROP table store\")\n",
    "except psycopg2.Error as e: \n",
    "    print(\"Error: Dropping table\")\n",
    "    print (e)"
   ]
  },
  {
   "cell_type": "code",
   "execution_count": null,
   "metadata": {},
   "outputs": [],
   "source": []
  }
 ],
 "metadata": {
  "kernelspec": {
   "display_name": "Python 3",
   "language": "python",
   "name": "python3"
  },
  "language_info": {
   "codemirror_mode": {
    "name": "ipython",
    "version": 3
   },
   "file_extension": ".py",
   "mimetype": "text/x-python",
   "name": "python",
   "nbconvert_exporter": "python",
   "pygments_lexer": "ipython3",
   "version": "3.6.7"
  }
 },
 "nbformat": 4,
 "nbformat_minor": 2
}
