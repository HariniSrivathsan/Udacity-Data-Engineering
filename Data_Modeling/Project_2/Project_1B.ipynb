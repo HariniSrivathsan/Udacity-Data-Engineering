{
 "cells": [
  {
   "cell_type": "code",
   "execution_count": 1,
   "metadata": {},
   "outputs": [],
   "source": [
    "#import python packages\n",
    "import os\n",
    "import json\n",
    "import glob\n",
    "import pandas as pd\n",
    "import cassandra\n",
    "import numpy as np\n",
    "import csv\n",
    "from prettytable import PrettyTable"
   ]
  },
  {
   "cell_type": "code",
   "execution_count": 2,
   "metadata": {},
   "outputs": [
    {
     "name": "stdout",
     "output_type": "stream",
     "text": [
      "/home/srivathsan/harini/Udacity-Data-Engineering/Data_Modeling/Project_2\n"
     ]
    }
   ],
   "source": [
    "#check your current working directory\n",
    "print(os.getcwd())"
   ]
  },
  {
   "cell_type": "code",
   "execution_count": 3,
   "metadata": {},
   "outputs": [
    {
     "name": "stdout",
     "output_type": "stream",
     "text": [
      "/home/srivathsan/harini/Udacity-Data-Engineering/Data_Modeling/Project_2/event_data\n"
     ]
    }
   ],
   "source": [
    "filepath = os.getcwd() + \"/event_data\"\n",
    "print(filepath)"
   ]
  },
  {
   "cell_type": "code",
   "execution_count": 5,
   "metadata": {},
   "outputs": [
    {
     "name": "stdout",
     "output_type": "stream",
     "text": [
      "['/home/srivathsan/harini/Udacity-Data-Engineering/Data_Modeling/Project_2/event_data/2018-11-25-events.csv', '/home/srivathsan/harini/Udacity-Data-Engineering/Data_Modeling/Project_2/event_data/2018-11-24-events.csv', '/home/srivathsan/harini/Udacity-Data-Engineering/Data_Modeling/Project_2/event_data/2018-11-26-events.csv', '/home/srivathsan/harini/Udacity-Data-Engineering/Data_Modeling/Project_2/event_data/2018-11-15-events.csv', '/home/srivathsan/harini/Udacity-Data-Engineering/Data_Modeling/Project_2/event_data/2018-11-18-events.csv', '/home/srivathsan/harini/Udacity-Data-Engineering/Data_Modeling/Project_2/event_data/2018-11-13-events.csv', '/home/srivathsan/harini/Udacity-Data-Engineering/Data_Modeling/Project_2/event_data/2018-11-03-events.csv', '/home/srivathsan/harini/Udacity-Data-Engineering/Data_Modeling/Project_2/event_data/2018-11-21-events.csv', '/home/srivathsan/harini/Udacity-Data-Engineering/Data_Modeling/Project_2/event_data/2018-11-08-events.csv', '/home/srivathsan/harini/Udacity-Data-Engineering/Data_Modeling/Project_2/event_data/2018-11-17-events.csv', '/home/srivathsan/harini/Udacity-Data-Engineering/Data_Modeling/Project_2/event_data/2018-11-04-events.csv', '/home/srivathsan/harini/Udacity-Data-Engineering/Data_Modeling/Project_2/event_data/2018-11-23-events.csv', '/home/srivathsan/harini/Udacity-Data-Engineering/Data_Modeling/Project_2/event_data/2018-11-01-events.csv', '/home/srivathsan/harini/Udacity-Data-Engineering/Data_Modeling/Project_2/event_data/2018-11-22-events.csv', '/home/srivathsan/harini/Udacity-Data-Engineering/Data_Modeling/Project_2/event_data/2018-11-05-events.csv', '/home/srivathsan/harini/Udacity-Data-Engineering/Data_Modeling/Project_2/event_data/2018-11-12-events.csv', '/home/srivathsan/harini/Udacity-Data-Engineering/Data_Modeling/Project_2/event_data/2018-11-07-events.csv', '/home/srivathsan/harini/Udacity-Data-Engineering/Data_Modeling/Project_2/event_data/2018-11-10-events.csv', '/home/srivathsan/harini/Udacity-Data-Engineering/Data_Modeling/Project_2/event_data/2018-11-14-events.csv', '/home/srivathsan/harini/Udacity-Data-Engineering/Data_Modeling/Project_2/event_data/2018-11-27-events.csv', '/home/srivathsan/harini/Udacity-Data-Engineering/Data_Modeling/Project_2/event_data/2018-11-02-events.csv', '/home/srivathsan/harini/Udacity-Data-Engineering/Data_Modeling/Project_2/event_data/2018-11-11-events.csv', '/home/srivathsan/harini/Udacity-Data-Engineering/Data_Modeling/Project_2/event_data/2018-11-06-events.csv', '/home/srivathsan/harini/Udacity-Data-Engineering/Data_Modeling/Project_2/event_data/2018-11-16-events.csv', '/home/srivathsan/harini/Udacity-Data-Engineering/Data_Modeling/Project_2/event_data/2018-11-09-events.csv', '/home/srivathsan/harini/Udacity-Data-Engineering/Data_Modeling/Project_2/event_data/2018-11-28-events.csv', '/home/srivathsan/harini/Udacity-Data-Engineering/Data_Modeling/Project_2/event_data/2018-11-29-events.csv', '/home/srivathsan/harini/Udacity-Data-Engineering/Data_Modeling/Project_2/event_data/2018-11-19-events.csv', '/home/srivathsan/harini/Udacity-Data-Engineering/Data_Modeling/Project_2/event_data/2018-11-20-events.csv', '/home/srivathsan/harini/Udacity-Data-Engineering/Data_Modeling/Project_2/event_data/2018-11-30-events.csv']\n"
     ]
    }
   ],
   "source": [
    "#Join the filepath & roots with subdirectories using glob\n",
    "for root, dirs, files in os.walk(filepath):\n",
    "    file_path_list = glob.glob(os.path.join(root, '*'))\n",
    "    print (file_path_list)"
   ]
  },
  {
   "cell_type": "markdown",
   "metadata": {},
   "source": [
    "#Process the files to create data file.csv that will be used by apache cassandra tables"
   ]
  },
  {
   "cell_type": "code",
   "execution_count": 6,
   "metadata": {},
   "outputs": [],
   "source": [
    "#initiate an empty list for each file\n",
    "full_data_rows_list = []\n",
    "\n",
    "#iterate through the file_path_list\n",
    "for f in file_path_list:\n",
    "    \n",
    "#reading the csv file\n",
    "    with open(f, 'r', encoding = 'utf8', newline = '') as csvfile:\n",
    "    # creating a csv reader\n",
    "      csvreader = csv.reader(csvfile)\n",
    "      next(csvreader)\n",
    "#extracting each data row one by one & append it\n",
    "      for line in csvreader:\n",
    "        #print(line)\n",
    "        full_data_rows_list.append(line)\n",
    "\n",
    "\n",
    "\n",
    "\n"
   ]
  },
  {
   "cell_type": "code",
   "execution_count": 7,
   "metadata": {},
   "outputs": [
    {
     "name": "stdout",
     "output_type": "stream",
     "text": [
      "8056\n"
     ]
    }
   ],
   "source": [
    "print(len(full_data_rows_list))"
   ]
  },
  {
   "cell_type": "code",
   "execution_count": 8,
   "metadata": {},
   "outputs": [],
   "source": [
    "#print(full_data_rows_list)\n",
    "\n",
    "#creating a smaller event data file for inserting data into apache cassandra tables\n",
    "csv.register_dialect('myDialect', quoting = csv.QUOTE_ALL, skipinitialspace= True)\n",
    "\n",
    "\n",
    "with open('event_datafile_new.csv', 'w', encoding = 'utf8', newline = '') as f: \n",
    "    writer = csv.writer(f, dialect = 'myDialect')\n",
    "    writer.writerow(['artist','firstName','gender','itemInSession','lastName','length',\\\n",
    "                'level','location','sessionId','song','userId'])\n",
    "    \n",
    "    for row in full_data_rows_list:\n",
    "        if(row[0] == ''):\n",
    "          continue\n",
    "        writer.writerow((row[0], row[2], row[3], row[4], row[5], row[6], row[7], row[8], row[12], row[13], row[16]))\n",
    "    \n",
    "        \n",
    "    \n",
    "    "
   ]
  },
  {
   "cell_type": "code",
   "execution_count": 90,
   "metadata": {},
   "outputs": [
    {
     "name": "stdout",
     "output_type": "stream",
     "text": [
      "6821\n"
     ]
    }
   ],
   "source": [
    "#check the num of rows in your csv file\n",
    "with open('event_datafile_new.csv', 'r', encoding = 'utf8', newline = '') as f:\n",
    "    print(sum(1 for line in f))"
   ]
  },
  {
   "cell_type": "code",
   "execution_count": 91,
   "metadata": {},
   "outputs": [],
   "source": [
    "#Conneting to the database\n",
    "from cassandra.cluster import Cluster\n",
    "try:\n",
    "     cluster = Cluster(['127.0.0.1'])\n",
    "     session = cluster.connect()   \n",
    "except Exception as e:\n",
    "     print(e)"
   ]
  },
  {
   "cell_type": "code",
   "execution_count": 92,
   "metadata": {},
   "outputs": [],
   "source": [
    "#create a key space\n",
    "try:\n",
    "    session.execute(\"\"\"\n",
    "    CREATE KEYSPACE IF NOT EXISTS sparkify\n",
    "    WITH REPLICATION = \n",
    "    {'class' : 'SimpleStrategy', 'replication_factor' : 1}\"\"\")\n",
    "    \n",
    "except Exception as e:\n",
    "    print(e)"
   ]
  },
  {
   "cell_type": "code",
   "execution_count": 93,
   "metadata": {},
   "outputs": [],
   "source": [
    "try:\n",
    "    session.set_keyspace('sparkify')\n",
    "except Exception as e:\n",
    "    print(e)"
   ]
  },
  {
   "cell_type": "markdown",
   "metadata": {},
   "source": [
    "# Query 1. Give me the artist, song title and song's length in the music app history that was heard during sessionId = 338, and itemInSession = 4\n",
    "From the above requirement, it is clear that there are 2 identifiers i.e composite/compund primary key, \n",
    "session ID - partition key & item in session - clustering column. "
   ]
  },
  {
   "cell_type": "code",
   "execution_count": 94,
   "metadata": {},
   "outputs": [],
   "source": [
    "#Select query\n",
    "select_query = \"\"\"select session_id, item_in_session, artist, song_title, song_length from song_info_by_session\n",
    "                WHERE session_id = %s\n",
    "                AND item_in_session = %s\"\"\" "
   ]
  },
  {
   "cell_type": "markdown",
   "metadata": {},
   "source": [
    "#create a table partitioned by session Id and data in every partition sorted by item in session"
   ]
  },
  {
   "cell_type": "code",
   "execution_count": 95,
   "metadata": {},
   "outputs": [],
   "source": [
    "#Create table song_info_by_session for the above query\n",
    "query = \"CREATE TABLE IF NOT EXISTS song_info_by_session \"\n",
    "query = query + \"(session_id int, item_in_session int, artist text, song_title text, song_length float,  PRIMARY KEY (session_id, item_in_session))\"\n",
    "try:\n",
    "    session.execute(query)\n",
    "except Exception as e:\n",
    "    print(e)\n",
    "\n"
   ]
  },
  {
   "cell_type": "code",
   "execution_count": 96,
   "metadata": {},
   "outputs": [],
   "source": [
    "#Ingesting data from event_datafile_new.csv\n",
    "file = 'event_datafile_new.csv'\n",
    "\n",
    "with open(file, encoding = 'utf8') as f:\n",
    "    csvreader = csv.reader(f)\n",
    "    next(csvreader)\n",
    "    for line in csvreader:\n",
    "        query = \"INSERT INTO song_info_by_session(session_id, item_in_session, artist, song_title, song_length)\"\n",
    "        query = query + \"VALUES (%s, %s, %s, %s, %s)\"\n",
    "        session.execute(query, (int(line[8]), int(line[3]), line[0], line[9], float(line[5])))"
   ]
  },
  {
   "cell_type": "code",
   "execution_count": 97,
   "metadata": {},
   "outputs": [],
   "source": [
    "#1. Give me the artist, song title and song's length in the music app history that was heard during sessionId = 338, and itemInSession = 4\n",
    "select_query = \"\"\"select session_id, item_in_session, artist, song_title, song_length from song_info_by_session\n",
    "                WHERE session_id = %s\n",
    "                AND item_in_session = %s\"\"\" "
   ]
  },
  {
   "cell_type": "code",
   "execution_count": 99,
   "metadata": {},
   "outputs": [
    {
     "name": "stdout",
     "output_type": "stream",
     "text": [
      "Session ID: 338 \n",
      "Item In Session: 4 \n",
      "Artist: Faithless \n",
      "Song Title: Music Matters (Mark Knight Dub) \n",
      "Song Length: 495.30731201171875\n"
     ]
    }
   ],
   "source": [
    "#select statement to verify the data\n",
    "try:\n",
    "    rows = session.execute(select_query, (338,4))\n",
    "except exception as e:\n",
    "    print(e)\n",
    "\n",
    "for row in rows:\n",
    "    print(\"Session ID: \"+str(row.session_id), \"\\nItem In Session: \"+str(row.item_in_session), \"\\nArtist: \"+row.artist, \"\\nSong Title: \"+row.song_title, \"\\nSong Length: \"+str(row.song_length))\n",
    "    "
   ]
  },
  {
   "cell_type": "markdown",
   "metadata": {},
   "source": [
    " # Query 2: Give me only the following: name of artist, song (sorted by itemInSession) and user (first and last name) for userid = 10, sessionid = 182\n",
    "create a table with user id as partition key & data clustered by session id & item in session to maintain     uniqueness in every partition\n",
    "select artist, song_title, item_in_session, user_first_name, user_last_name, from song_info_by_user\n",
    "WHERE user_id = 10 AND session_id = 182\n",
    "  "
   ]
  },
  {
   "cell_type": "code",
   "execution_count": 100,
   "metadata": {},
   "outputs": [],
   "source": [
    "#Give me only the following: name of artist, song (sorted by itemInSession) and user (first and last name) for userid = 10, sessionid = 182\n",
    "query1 = \"CREATE TABLE IF NOT EXISTS song_info_by_user \"\n",
    "query1 = query1 + \"(user_id int, session_id int, item_in_session int, user_first_name text, user_last_name text, artist text, song_title text, PRIMARY KEY (user_id, session_id, item_in_session))\"\n",
    "try:\n",
    "    session.execute(query1)\n",
    "except Exception as e:\n",
    "    print(e)"
   ]
  },
  {
   "cell_type": "code",
   "execution_count": 108,
   "metadata": {},
   "outputs": [],
   "source": [
    "#Ingesting data from event_datafile_new.csv\n",
    "file = 'event_datafile_new.csv'\n",
    "\n",
    "with open(file, encoding = 'utf8') as f:\n",
    "    csvreader = csv.reader(f)\n",
    "    next(csvreader)\n",
    "    for line in csvreader:\n",
    "        query = \"INSERT INTO song_info_by_user(user_id, session_id, item_in_session, user_first_name, user_last_name, artist, song_title)\"\n",
    "        query = query + \"VALUES (%s, %s, %s, %s, %s, %s, %s)\"\n",
    "        session.execute(query, (int(line[10]), int(line[8]), int(line[3]), line[1], line[4], line[0], line[9]))"
   ]
  },
  {
   "cell_type": "code",
   "execution_count": 114,
   "metadata": {},
   "outputs": [],
   "source": [
    "#Give me only the following: name of artist, song (sorted by itemInSession) and user (first and last name) for userid = 10, sessionid = 182\n",
    "select_query1 = \"\"\"select artist, song_title, item_in_session, user_first_name, user_last_name, from song_info_by_user\n",
    "                WHERE user_id = %s\n",
    "                AND session_id = %s\"\"\" "
   ]
  },
  {
   "cell_type": "code",
   "execution_count": 123,
   "metadata": {},
   "outputs": [
    {
     "name": "stdout",
     "output_type": "stream",
     "text": [
      "+-----------------+-------------------+------------------------------------------------------+------------+-----------+\n",
      "| Item in session |       Artist      |                      Song Title                      | First Name | Last Name |\n",
      "+-----------------+-------------------+------------------------------------------------------+------------+-----------+\n",
      "|        0        |  Down To The Bone |                  Keep On Keepin' On                  |   Sylvie   |    Cruz   |\n",
      "|        1        |    Three Drives   |                     Greece 2000                      |   Sylvie   |    Cruz   |\n",
      "|        2        | Sebastien Tellier |                      Kilometer                       |   Sylvie   |    Cruz   |\n",
      "|        3        |   Lonnie Gordon   | Catch You Baby (Steve Pitron & Max Sanna Radio Edit) |   Sylvie   |    Cruz   |\n",
      "+-----------------+-------------------+------------------------------------------------------+------------+-----------+\n"
     ]
    }
   ],
   "source": [
    "#select statement to verify the data\n",
    "try:\n",
    "    rows = session.execute(select_query1, (10,182))\n",
    "except exception as e:\n",
    "    print(e)\n",
    "\n",
    "u = PrettyTable([ 'Item in session', 'Artist', 'Song Title', 'First Name', 'Last Name',  ]) \n",
    "\n",
    "for row in rows:\n",
    "    u.add_row([row.item_in_session, row.artist,row.song_title, row.user_first_name, row.user_last_name])\n",
    "print(u)\n",
    "    "
   ]
  },
  {
   "cell_type": "markdown",
   "metadata": {},
   "source": [
    "# Query 3: Give me every user name (first and last) in my music app history who listened to the song 'All Hands Against His Own'\n",
    "song title is the partition key and user id is the clustering key. The table has to answer all unique users who listeted to a particular song"
   ]
  },
  {
   "cell_type": "code",
   "execution_count": 124,
   "metadata": {},
   "outputs": [],
   "source": [
    "\n",
    "query = \"CREATE TABLE IF NOT EXISTS user_info_by_song \"\n",
    "query = query + \"( song_title text, user_id int, user_first_name text, user_last_name text, PRIMARY KEY (song_title, user_id))\"\n",
    "try:\n",
    "    session.execute(query)\n",
    "except Exception as e:\n",
    "    print(e)\n"
   ]
  },
  {
   "cell_type": "code",
   "execution_count": 125,
   "metadata": {},
   "outputs": [],
   "source": [
    "#Ingesting data from event_datafile_new.csv\n",
    "file = 'event_datafile_new.csv'\n",
    "\n",
    "with open(file, encoding = 'utf8') as f:\n",
    "    csvreader = csv.reader(f)\n",
    "    next(csvreader)\n",
    "    for line in csvreader:\n",
    "        query = \"INSERT INTO user_info_by_song(song_title, user_id, user_first_name, user_last_name)\"\n",
    "        query = query + \"VALUES (%s, %s, %s, %s)\"\n",
    "        session.execute(query, (line[9], int(line[10]), line[1], line[4]))"
   ]
  },
  {
   "cell_type": "code",
   "execution_count": 126,
   "metadata": {},
   "outputs": [
    {
     "name": "stdout",
     "output_type": "stream",
     "text": [
      "select user_id, user_first_name, user_last_name, song_title from user_info_by_song WHERE song_title = %s;\n"
     ]
    }
   ],
   "source": [
    "##Query 3: Give me every user name (first and last) in my music app history who listened to the song 'All Hands Against His Own'\n",
    "select_query3 = \"select user_id, user_first_name, user_last_name, song_title from user_info_by_song WHERE song_title = %s;\"\n",
    "print(select_query3)              "
   ]
  },
  {
   "cell_type": "code",
   "execution_count": 127,
   "metadata": {},
   "outputs": [
    {
     "name": "stdout",
     "output_type": "stream",
     "text": [
      "User Id: 29 \n",
      "First Name :  Jacqueline \n",
      "Last Name: Lynch \n",
      "Song Title: All Hands Against His Own\n",
      "User Id: 80 \n",
      "First Name :  Tegan \n",
      "Last Name: Levine \n",
      "Song Title: All Hands Against His Own\n",
      "User Id: 95 \n",
      "First Name :  Sara \n",
      "Last Name: Johnson \n",
      "Song Title: All Hands Against His Own\n"
     ]
    }
   ],
   "source": [
    "#select statement to verify the data\n",
    "try:\n",
    "    rows = session.execute(select_query3, ('All Hands Against His Own',))\n",
    "except exception as e:\n",
    "    print(e)\n",
    "\n",
    "for row in rows:\n",
    "    print(\"User Id: \"+ str(row.user_id),\n",
    "          \"\\nFirst Name :  \"+str(row.user_first_name),\n",
    "           \"\\nLast Name: \"+str(row.user_last_name),\n",
    "           \"\\nSong Title: \"+str(row.song_title))\n",
    "    "
   ]
  },
  {
   "cell_type": "code",
   "execution_count": 128,
   "metadata": {},
   "outputs": [],
   "source": [
    "\n",
    "\n",
    "query = \"drop table song_info_by_session\"\n",
    "try:\n",
    "    rows = session.execute(query)\n",
    "except Exception as e:\n",
    "    print(e)\n",
    "    \n",
    "query2 = \"drop table song_info_by_user\"\n",
    "try:\n",
    "    rows = session.execute(query2)\n",
    "except Exception as e:\n",
    "    print(e)   \n",
    "    \n",
    "query3 = \"drop table user_info_by_song\"\n",
    "try:\n",
    "    rows = session.execute(query3)\n",
    "except Exception as e:\n",
    "    print(e)     \n",
    "    "
   ]
  },
  {
   "cell_type": "code",
   "execution_count": 9,
   "metadata": {},
   "outputs": [
    {
     "ename": "NameError",
     "evalue": "name 'session' is not defined",
     "output_type": "error",
     "traceback": [
      "\u001b[0;31m---------------------------------------------------------------------------\u001b[0m",
      "\u001b[0;31mNameError\u001b[0m                                 Traceback (most recent call last)",
      "\u001b[0;32m<ipython-input-9-3cd1e8f502d3>\u001b[0m in \u001b[0;36m<module>\u001b[0;34m\u001b[0m\n\u001b[0;32m----> 1\u001b[0;31m \u001b[0msession\u001b[0m\u001b[0;34m.\u001b[0m\u001b[0mshutdown\u001b[0m\u001b[0;34m(\u001b[0m\u001b[0;34m)\u001b[0m\u001b[0;34m\u001b[0m\u001b[0;34m\u001b[0m\u001b[0m\n\u001b[0m\u001b[1;32m      2\u001b[0m \u001b[0mcluster\u001b[0m\u001b[0;34m.\u001b[0m\u001b[0mshutdown\u001b[0m\u001b[0;34m(\u001b[0m\u001b[0;34m)\u001b[0m\u001b[0;34m\u001b[0m\u001b[0;34m\u001b[0m\u001b[0m\n",
      "\u001b[0;31mNameError\u001b[0m: name 'session' is not defined"
     ]
    }
   ],
   "source": [
    "session.shutdown()\n",
    "cluster.shutdown()"
   ]
  },
  {
   "cell_type": "code",
   "execution_count": null,
   "metadata": {},
   "outputs": [],
   "source": []
  }
 ],
 "metadata": {
  "kernelspec": {
   "display_name": "Python 3",
   "language": "python",
   "name": "python3"
  },
  "language_info": {
   "codemirror_mode": {
    "name": "ipython",
    "version": 3
   },
   "file_extension": ".py",
   "mimetype": "text/x-python",
   "name": "python",
   "nbconvert_exporter": "python",
   "pygments_lexer": "ipython3",
   "version": "3.6.7"
  }
 },
 "nbformat": 4,
 "nbformat_minor": 4
}
