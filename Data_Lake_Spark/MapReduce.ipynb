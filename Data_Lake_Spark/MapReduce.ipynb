{
 "cells": [
  {
   "cell_type": "markdown",
   "metadata": {},
   "source": [
    "\n",
    "MapReduce\n",
    "\n",
    "The MapReduce programming technique was designed to analyze massive data sets across a cluster. In this Jupyter notebook, you'll get a sense for how Hadoop MapReduce works; however, this notebook will run locally rather than on a cluster.\n",
    "\n",
    "The biggest difference between Hadoop and Spark is that Spark tries to do as many calculations as possible in memory, which avoids moving data back and forth across a cluster. Hadoop writes intermediate calculations out to disk, which can be less efficient. Hadoop is an older technology than Spark and one of the cornerstone big data technologies.\n",
    "\n",
    "If you click on the Jupyter notebook logo at the top of the workspace, you'll be taken to the workspace directory. There you will see a file called \"songplays.txt\". This is a text file where each line represents a song that was played in the Sparkify app. The MapReduce code will count how many times each song was played. In other words, the code counts how many times the song title appears in the list.\n",
    "MapReduce versus Hadoop MapReduce\n",
    "\n",
    "Don't get confused by the terminology! MapReduce is a programming technique. Hadoop MapReduce is a specific implementation of the programming technique.\n",
    "\n",
    "Some of the syntax will look a bit funny, so be sure to read the explanation and comments for each section. You'll learn more about the syntax in later lessons."
   ]
  },
  {
   "cell_type": "code",
   "execution_count": 1,
   "metadata": {},
   "outputs": [
    {
     "name": "stdout",
     "output_type": "stream",
     "text": [
      "Collecting mrjob\n",
      "  Downloading mrjob-0.7.2-py2.py3-none-any.whl (435 kB)\n",
      "\u001b[K     |████████████████████████████████| 435 kB 2.0 MB/s eta 0:00:01\n",
      "\u001b[?25hRequirement already satisfied: PyYAML>=3.10 in /home/srivathsan/p36/lib/python3.6/site-packages (from mrjob) (3.13)\n",
      "Installing collected packages: mrjob\n",
      "Successfully installed mrjob-0.7.2\n"
     ]
    }
   ],
   "source": [
    "# Install mrjob library. This package is for running MapReduce jobs with Python\n",
    "# In Jupyter notebooks, \"!\" runs terminal commands from inside notebooks \n",
    "\n",
    "! pip install mrjob"
   ]
  },
  {
   "cell_type": "code",
   "execution_count": 8,
   "metadata": {},
   "outputs": [
    {
     "name": "stdout",
     "output_type": "stream",
     "text": [
      "Overwriting wordcount.py\n"
     ]
    }
   ],
   "source": [
    "%%file wordcount.py\n",
    "# %%file is an Ipython magic function that saves the code cell as a file\n",
    "from mrjob.job import MRJob #import mrjob library\n",
    "class MRSongCount(MRJob):\n",
    "    \n",
    "     \n",
    "    # the map step: each line in the txt file is read as a key, value pair\n",
    "    # in this case, each line in the txt file only contains a value but no key\n",
    "    # _ means that in this case, there is no key for each line\n",
    "    def mapper(self,_,song):\n",
    "      #output each line as a tuple of (song_name, 1)\n",
    "       yield(song,1)\n",
    "        \n",
    "    # the reduce step: combine all tuples with the same key\n",
    "    # in this case, the key is the song name\n",
    "    # then sum all the values of the tuple, which will give the total song plays    \n",
    "    def reducer(self, key, values):\n",
    "        yield(key, sum(values))\n",
    "        \n",
    "\n",
    "if __name__ == \"__main__\":\n",
    "        MRSongCount.run()\n",
    "    "
   ]
  },
  {
   "cell_type": "code",
   "execution_count": 9,
   "metadata": {},
   "outputs": [
    {
     "name": "stdout",
     "output_type": "stream",
     "text": [
      "No configs found; falling back on auto-configuration\r\n",
      "No configs specified for inline runner\r\n",
      "Traceback (most recent call last):\r\n",
      "  File \"wordcount.py\", line 21, in <module>\r\n",
      "    MRSongCount.run()\r\n",
      "  File \"/home/srivathsan/p36/lib/python3.6/site-packages/mrjob/job.py\", line 616, in run\r\n",
      "    cls().execute()\r\n",
      "  File \"/home/srivathsan/p36/lib/python3.6/site-packages/mrjob/job.py\", line 687, in execute\r\n",
      "    self.run_job()\r\n",
      "  File \"/home/srivathsan/p36/lib/python3.6/site-packages/mrjob/job.py\", line 636, in run_job\r\n",
      "    runner.run()\r\n",
      "  File \"/home/srivathsan/p36/lib/python3.6/site-packages/mrjob/runner.py\", line 504, in run\r\n",
      "    self._check_input_paths()\r\n",
      "  File \"/home/srivathsan/p36/lib/python3.6/site-packages/mrjob/runner.py\", line 1137, in _check_input_paths\r\n",
      "    self._check_input_path(path)\r\n",
      "  File \"/home/srivathsan/p36/lib/python3.6/site-packages/mrjob/runner.py\", line 1151, in _check_input_path\r\n",
      "    'Input path %s does not exist!' % (path,))\r\n",
      "OSError: Input path songplays.txt does not exist!\r\n"
     ]
    }
   ],
   "source": [
    "! python wordcount.py songplays.txt"
   ]
  },
  {
   "cell_type": "code",
   "execution_count": null,
   "metadata": {},
   "outputs": [],
   "source": []
  }
 ],
 "metadata": {
  "kernelspec": {
   "display_name": "Python 3",
   "language": "python",
   "name": "python3"
  },
  "language_info": {
   "codemirror_mode": {
    "name": "ipython",
    "version": 3
   },
   "file_extension": ".py",
   "mimetype": "text/x-python",
   "name": "python",
   "nbconvert_exporter": "python",
   "pygments_lexer": "ipython3",
   "version": "3.6.7"
  }
 },
 "nbformat": 4,
 "nbformat_minor": 4
}
